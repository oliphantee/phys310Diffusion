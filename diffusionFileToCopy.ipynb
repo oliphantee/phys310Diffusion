{
 "cells": [
  {
   "cell_type": "markdown",
   "id": "lyric-controversy",
   "metadata": {},
   "source": [
    "### only modify the cell directly below this. I think I have the rest of the code set up to output the K_b and N_A at the very end. Just modify the variables below this as needed, then click \"restart and run all cells\". The K_b and N_A will be printed at the very bottom. I need to modify it to also output uncertainty"
   ]
  },
  {
   "cell_type": "code",
   "execution_count": 1,
   "id": "attached-lindsay",
   "metadata": {},
   "outputs": [],
   "source": [
    "micronsPerPixel=.16 # for 40x, use .16, idk about other magnifications\n",
    "framesPerSecond=5 # for 200ms per frame, use 5\n",
    "temperatureF=72 # I'm assuming room temperature\n",
    "tracerDiameter=2*10**-6 # 2 micron diameter\n",
    "mainUnit=10**-6 # shouldn't need to change this\n",
    "pathToFile='../022721_S6_2micron_1min.mp4' # you might need to use ./ as opposed to ../"
   ]
  },
  {
   "cell_type": "code",
   "execution_count": 2,
   "id": "shaped-tanzania",
   "metadata": {},
   "outputs": [],
   "source": [
    "import numpy as np\n",
    "import pandas as pd\n",
    "from pandas import DataFrame, Series  # for convenience\n",
    "import pims\n",
    "import trackpy as tp\n",
    "import matplotlib.pyplot as plt\n",
    "import matplotlib as mpl"
   ]
  },
  {
   "cell_type": "code",
   "execution_count": 3,
   "id": "powerful-defendant",
   "metadata": {},
   "outputs": [],
   "source": [
    "@pims.pipeline\n",
    "def gray(image):\n",
    "    return image[:, :, 1]  # Take just the green channel\n",
    "frames = gray(pims.Video(pathToFile))"
   ]
  },
  {
   "cell_type": "code",
   "execution_count": 4,
   "id": "unable-tenant",
   "metadata": {},
   "outputs": [
    {
     "name": "stdout",
     "output_type": "stream",
     "text": [
      "Frame 300: 40 features\n"
     ]
    }
   ],
   "source": [
    "f = tp.batch(frames, 11, minmass=500);"
   ]
  },
  {
   "cell_type": "code",
   "execution_count": 5,
   "id": "demographic-light",
   "metadata": {},
   "outputs": [
    {
     "name": "stdout",
     "output_type": "stream",
     "text": [
      "Frame 300: 40 trajectories present.\n"
     ]
    }
   ],
   "source": [
    "t = tp.link(f, 10, memory=3) # might need to modify the 10, idk what it should be but smaller means quicker computation"
   ]
  },
  {
   "cell_type": "code",
   "execution_count": 6,
   "id": "executed-alarm",
   "metadata": {},
   "outputs": [
    {
     "name": "stdout",
     "output_type": "stream",
     "text": [
      "Before: 195\n",
      "After: 104\n"
     ]
    }
   ],
   "source": [
    "t1 = tp.filter_stubs(t, 20)\n",
    "# Compare the number of particles in the unfiltered and filtered data.\n",
    "print('Before:', t['particle'].nunique())\n",
    "print('After:', t1['particle'].nunique())"
   ]
  },
  {
   "cell_type": "code",
   "execution_count": 7,
   "id": "guided-disorder",
   "metadata": {},
   "outputs": [],
   "source": [
    "#plt.figure()\n",
    "#tp.annotate(t1[t1['frame'] == 0], frames[0]);"
   ]
  },
  {
   "cell_type": "code",
   "execution_count": 8,
   "id": "revised-notion",
   "metadata": {},
   "outputs": [],
   "source": [
    "#lt.figure()\n",
    "#tp.plot_traj(t1);"
   ]
  },
  {
   "cell_type": "code",
   "execution_count": 9,
   "id": "desirable-prime",
   "metadata": {},
   "outputs": [],
   "source": [
    "d = tp.compute_drift(t1)"
   ]
  },
  {
   "cell_type": "code",
   "execution_count": 10,
   "id": "sexual-witness",
   "metadata": {},
   "outputs": [],
   "source": [
    "#d.plot()\n",
    "#plt.show()"
   ]
  },
  {
   "cell_type": "code",
   "execution_count": 11,
   "id": "funded-columbia",
   "metadata": {},
   "outputs": [],
   "source": [
    "tm = tp.subtract_drift(t1.copy(), d)\n",
    "#ax = tp.plot_traj(tm)\n",
    "#plt.show()"
   ]
  },
  {
   "cell_type": "code",
   "execution_count": 12,
   "id": "strong-miracle",
   "metadata": {},
   "outputs": [],
   "source": [
    "#im = tp.imsd(tm, micronsPerPixel/1., framesPerSecond)\n",
    "#fig, ax = plt.subplots()\n",
    "#ax.plot(im.index, im, 'k-', alpha=0.1)  # black lines, semitransparent\n",
    "#ax.set(ylabel=r'$\\langle \\Delta r^2 \\rangle$ [$\\mu$m$^2$]',\n",
    "#       xlabel='lag time $t$')\n",
    "#ax.set_xscale('log')\n",
    "#ax.set_yscale('log')"
   ]
  },
  {
   "cell_type": "code",
   "execution_count": 13,
   "id": "scientific-attention",
   "metadata": {},
   "outputs": [],
   "source": [
    "em = tp.emsd(tm, micronsPerPixel/1., 5)\n",
    "#fig, ax = plt.subplots()\n",
    "#ax.plot(em.index, em, 'o')\n",
    "#ax.set_xscale('log')\n",
    "#ax.set_yscale('log')\n",
    "#ax.set(ylabel=r'$\\langle \\Delta r^2 \\rangle$ [$\\mu$m$^2$]',\n",
    "#       xlabel='lag time $t$')\n",
    "#ax.set(ylim=(1e-2, 10));"
   ]
  },
  {
   "cell_type": "code",
   "execution_count": 14,
   "id": "persistent-virtue",
   "metadata": {},
   "outputs": [
    {
     "data": {
      "image/png": "[encoded data removed]",
      "text/plain": [
       "<Figure size 432x288 with 1 Axes>"
      ]
     },
     "metadata": {
      "needs_background": "light"
     },
     "output_type": "display_data"
    }
   ],
   "source": [
    "plt.figure()\n",
    "plt.ylabel(r'$\\langle \\Delta r^2 \\rangle$ [$\\mu$m$^2$]')\n",
    "plt.xlabel('lag time $t$');\n",
    "A=tp.utils.fit_powerlaw(em).A\n",
    "#print(A)"
   ]
  },
  {
   "cell_type": "code",
   "execution_count": 15,
   "id": "registered-history",
   "metadata": {},
   "outputs": [
    {
     "name": "stdout",
     "output_type": "stream",
     "text": [
      "K_b: msd    1.120838e-23\n",
      "Name: A, dtype: float64\n",
      "N_A: msd    7.418075e+23\n",
      "Name: A, dtype: float64\n"
     ]
    }
   ],
   "source": [
    "# A was .773374 for ../022521a_2micron_1min.mp4\n",
    "D=A/4*mainUnit**2 # diffusion constant\n",
    "temperatureK=(temperatureF-32)/1.8+273.15\n",
    "eta=.0009954 # I'm assuming room temperature, shouldn't make a significant difference\n",
    "r=tracerDiameter/2\n",
    "k_b=D/temperatureK*6*np.pi*eta*r\n",
    "print(\"K_b: \"+str(k_b))\n",
    "R=8.31446261815324\n",
    "n_a=R/D/6/np.pi/eta/r*temperatureK\n",
    "print(\"N_A: \"+str(n_a))"
   ]
  },
  {
   "cell_type": "code",
   "execution_count": null,
   "id": "enhanced-demonstration",
   "metadata": {},
   "outputs": [],
   "source": []
  }
 ],
 "metadata": {
  "kernelspec": {
   "display_name": "Python 3",
   "language": "python",
   "name": "python3"
  },
  "language_info": {
   "codemirror_mode": {
    "name": "ipython",
    "version": 3
   },
   "file_extension": ".py",
   "mimetype": "text/x-python",
   "name": "python",
   "nbconvert_exporter": "python",
   "pygments_lexer": "ipython3",
   "version": "3.7.3"
  }
 },
 "nbformat": 4,
 "nbformat_minor": 5
}
